{
 "cells": [
  {
   "cell_type": "markdown",
   "id": "5184fc16",
   "metadata": {},
   "source": [
    "# Offset computation\n",
    "\n",
    "We present here some code examples for computing accelerometer and gyroscope offsets using a data from a simple multi-point tumble test as presented in Fayat et al., 2021.\n",
    "\n",
    "This notebook must be seen as an illustration of how such analysis can be performed to allow others to use the pipelines rather than code for replicating the exact panels of the paper."
   ]
  },
  {
   "cell_type": "markdown",
   "id": "e6d5ea90",
   "metadata": {},
   "source": [
    "## Imports and data loading"
   ]
  },
  {
   "cell_type": "code",
   "execution_count": 1,
   "id": "ba7fa5c9",
   "metadata": {
    "scrolled": true
   },
   "outputs": [
    {
     "data": {
      "text/html": [
       "<div>\n",
       "<style scoped>\n",
       "    .dataframe tbody tr th:only-of-type {\n",
       "        vertical-align: middle;\n",
       "    }\n",
       "\n",
       "    .dataframe tbody tr th {\n",
       "        vertical-align: top;\n",
       "    }\n",
       "\n",
       "    .dataframe thead th {\n",
       "        text-align: right;\n",
       "    }\n",
       "</style>\n",
       "<table border=\"1\" class=\"dataframe\">\n",
       "  <thead>\n",
       "    <tr style=\"text-align: right;\">\n",
       "      <th></th>\n",
       "      <th>ax</th>\n",
       "      <th>ay</th>\n",
       "      <th>az</th>\n",
       "      <th>gx</th>\n",
       "      <th>gy</th>\n",
       "      <th>gz</th>\n",
       "      <th>time</th>\n",
       "    </tr>\n",
       "  </thead>\n",
       "  <tbody>\n",
       "    <tr>\n",
       "      <th>0</th>\n",
       "      <td>0.017334</td>\n",
       "      <td>-0.082031</td>\n",
       "      <td>0.989258</td>\n",
       "      <td>2.197266</td>\n",
       "      <td>0.946045</td>\n",
       "      <td>-0.091553</td>\n",
       "      <td>0.000000</td>\n",
       "    </tr>\n",
       "    <tr>\n",
       "      <th>1</th>\n",
       "      <td>0.020264</td>\n",
       "      <td>-0.090332</td>\n",
       "      <td>0.989990</td>\n",
       "      <td>1.983643</td>\n",
       "      <td>0.915527</td>\n",
       "      <td>0.122070</td>\n",
       "      <td>0.003333</td>\n",
       "    </tr>\n",
       "    <tr>\n",
       "      <th>2</th>\n",
       "      <td>0.021729</td>\n",
       "      <td>-0.076172</td>\n",
       "      <td>0.984131</td>\n",
       "      <td>2.166748</td>\n",
       "      <td>1.037598</td>\n",
       "      <td>-0.213623</td>\n",
       "      <td>0.006667</td>\n",
       "    </tr>\n",
       "    <tr>\n",
       "      <th>3</th>\n",
       "      <td>0.016113</td>\n",
       "      <td>-0.090820</td>\n",
       "      <td>0.980225</td>\n",
       "      <td>2.014160</td>\n",
       "      <td>1.007080</td>\n",
       "      <td>-0.030518</td>\n",
       "      <td>0.010000</td>\n",
       "    </tr>\n",
       "    <tr>\n",
       "      <th>4</th>\n",
       "      <td>0.021240</td>\n",
       "      <td>-0.086670</td>\n",
       "      <td>0.980225</td>\n",
       "      <td>2.105713</td>\n",
       "      <td>0.976562</td>\n",
       "      <td>0.000000</td>\n",
       "      <td>0.013333</td>\n",
       "    </tr>\n",
       "  </tbody>\n",
       "</table>\n",
       "</div>"
      ],
      "text/plain": [
       "         ax        ay        az        gx        gy        gz      time\n",
       "0  0.017334 -0.082031  0.989258  2.197266  0.946045 -0.091553  0.000000\n",
       "1  0.020264 -0.090332  0.989990  1.983643  0.915527  0.122070  0.003333\n",
       "2  0.021729 -0.076172  0.984131  2.166748  1.037598 -0.213623  0.006667\n",
       "3  0.016113 -0.090820  0.980225  2.014160  1.007080 -0.030518  0.010000\n",
       "4  0.021240 -0.086670  0.980225  2.105713  0.976562  0.000000  0.013333"
      ]
     },
     "execution_count": 1,
     "metadata": {},
     "output_type": "execute_result"
    }
   ],
   "source": [
    "import pandas as pd\n",
    "import matplotlib.pyplot as plt\n",
    "from cycler import cycler\n",
    "import numpy as np\n",
    "import sys\n",
    "sys.path.append(\"..\")\n",
    "from imu_helpers import IMU_Calibrator, get_immobility_smooth\n",
    "\n",
    "# Color cycler for the figures with x, y, z curves\n",
    "rgb = [\"#D55E00\", \"#009E73\", \"#0072B2\"]\n",
    "rgb_cycler = cycler(color=rgb)\n",
    "\n",
    "# Column names\n",
    "col_acc = [\"ax\", \"ay\", \"az\"]\n",
    "col_gyr = [\"gx\", \"gy\", \"gz\"]\n",
    "\n",
    "# Load the data as a pandas dataframe\n",
    "df = pd.read_csv(\"data/example_sensor_calibration.csv\", index_col=0)\n",
    "\n",
    "# Default parameter of IMU_Calibrator for selecting the time intervals\n",
    "# used for the offset estimate\n",
    "threshold = 5  # deg/s\n",
    "sr = 300.  # herz\n",
    "\n",
    "# Grab the accelerometer and gyroscope values\n",
    "acc = df[col_acc].values # Accelerometer values, in G\n",
    "gyr = df[col_gyr].values  # Gyroscope values, in deg/s\n",
    "\n",
    "df.head(5)"
   ]
  },
  {
   "cell_type": "markdown",
   "id": "5452d317",
   "metadata": {},
   "source": [
    "## Example data visualization"
   ]
  },
  {
   "cell_type": "code",
   "execution_count": 2,
   "id": "c38d1db0",
   "metadata": {
    "scrolled": false
   },
   "outputs": [
    {
     "data": {
      "text/plain": [
       "Text(0.5, 0.98, '')"
      ]
     },
     "execution_count": 2,
     "metadata": {},
     "output_type": "execute_result"
    },
    {
     "data": {
      "image/png": "[encoded data removed]",
      "text/plain": [
       "<Figure size 576x360 with 2 Axes>"
      ]
     },
     "metadata": {
      "needs_background": "light"
     },
     "output_type": "display_data"
    }
   ],
   "source": [
    "gyr_norm = np.linalg.norm(gyr, axis=1)\n",
    "is_immobile = get_immobility_smooth(gyr_norm, threshold=threshold)\n",
    "\n",
    "\n",
    "fig, (ax1, ax2) = plt.subplots(2, 1, sharex=True, figsize=(8, 5))\n",
    "ax1.set_prop_cycle(rgb_cycler)\n",
    "ax2.set_prop_cycle(rgb_cycler)\n",
    "\n",
    "# Plot the acc and gyr data\n",
    "df.plot(y=col_acc, x=\"time\", ax=ax1, ylabel=\"acc [G]\")\n",
    "df.plot(y=col_gyr, x=\"time\", ax=ax2, ylabel=\"gyr [deg/s]\")\n",
    "\n",
    "# Add the intervals below the threshold as a shaded area\n",
    "# These time intervals will be used for the offset estimate\n",
    "for ax, lim in zip([ax1, ax2], [4, 1000]):\n",
    "    ax.fill_between(df.time, -lim, lim,\n",
    "                    color=\"black\", alpha=.05,\n",
    "                    where=is_immobile)\n",
    "    ax.set_ylim([-lim, lim])\n",
    "ax1.set_xlim([df.time.iloc[0], df.time.iloc[-1]])\n",
    "fig.suptitle(\"\")"
   ]
  },
  {
   "cell_type": "markdown",
   "id": "180f55ef",
   "metadata": {},
   "source": [
    "## Offset estimate"
   ]
  },
  {
   "cell_type": "code",
   "execution_count": 27,
   "id": "2be7b847",
   "metadata": {},
   "outputs": [
    {
     "name": "stdout",
     "output_type": "stream",
     "text": [
      "acc offsets [G]:      [ 0.02793173 -0.07261109 -0.01655679]\n",
      "gyr offsets [deg/s]:  [ 2.13623047  0.9765625  -0.09155273]\n"
     ]
    }
   ],
   "source": [
    "c = IMU_Calibrator(sr=sr, n_static_positions=3)\n",
    "c.compute_offsets(acc, gyr)\n",
    "print(\"acc offsets [G]:     \", c.acc_offsets)\n",
    "print(\"gyr offsets [deg/s]: \", c.gyr_offsets)"
   ]
  }
 ],
 "metadata": {
  "kernelspec": {
   "display_name": "Python 3 (ipykernel)",
   "language": "python",
   "name": "python3"
  },
  "language_info": {
   "codemirror_mode": {
    "name": "ipython",
    "version": 3
   },
   "file_extension": ".py",
   "mimetype": "text/x-python",
   "name": "python",
   "nbconvert_exporter": "python",
   "pygments_lexer": "ipython3",
   "version": "3.7.11"
  }
 },
 "nbformat": 4,
 "nbformat_minor": 5
}
